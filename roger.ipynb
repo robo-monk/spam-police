{
 "cells": [
  {
   "cell_type": "code",
   "execution_count": 3,
   "metadata": {},
   "outputs": [],
   "source": [
    "import pandas as pd\n",
    "\n",
    "\n",
    "\n"
   ]
  },
  {
   "cell_type": "code",
   "execution_count": 6,
   "metadata": {},
   "outputs": [
    {
     "name": "stdout",
     "output_type": "stream",
     "text": [
      "Index(['id', 'email', 'firstname', 'lastname', 'isVerified', 'createdAt',\n",
      "       'updatedAt', 'isActive', 'countryCode', 'emailHealth',\n",
      "       'emailHealthNotes'],\n",
      "      dtype='object')\n"
     ]
    }
   ],
   "source": [
    "path = \"./data/participants.csv\"\n",
    "\n",
    "df = pd.read_csv(path)\n",
    "\n",
    "print(df.columns)"
   ]
  },
  {
   "cell_type": "code",
   "execution_count": 26,
   "metadata": {},
   "outputs": [
    {
     "data": {
      "text/html": [
       "<div>\n",
       "<style scoped>\n",
       "    .dataframe tbody tr th:only-of-type {\n",
       "        vertical-align: middle;\n",
       "    }\n",
       "\n",
       "    .dataframe tbody tr th {\n",
       "        vertical-align: top;\n",
       "    }\n",
       "\n",
       "    .dataframe thead th {\n",
       "        text-align: right;\n",
       "    }\n",
       "</style>\n",
       "<table border=\"1\" class=\"dataframe\">\n",
       "  <thead>\n",
       "    <tr style=\"text-align: right;\">\n",
       "      <th></th>\n",
       "      <th>id</th>\n",
       "      <th>email</th>\n",
       "      <th>firstname</th>\n",
       "      <th>lastname</th>\n",
       "      <th>isVerified</th>\n",
       "      <th>createdAt</th>\n",
       "      <th>updatedAt</th>\n",
       "      <th>isActive</th>\n",
       "      <th>countryCode</th>\n",
       "      <th>emailHealth</th>\n",
       "      <th>emailHealthNotes</th>\n",
       "    </tr>\n",
       "  </thead>\n",
       "  <tbody>\n",
       "    <tr>\n",
       "      <th>10000001</th>\n",
       "      <td>bugruc@gmail.com</td>\n",
       "      <td>bugruc@gmail.com</td>\n",
       "      <td>NaN</td>\n",
       "      <td>0</td>\n",
       "      <td>2019-09-14 17:19:31</td>\n",
       "      <td>2019-09-14 17:19:32</td>\n",
       "      <td>1</td>\n",
       "      <td>NaN</td>\n",
       "      <td>good</td>\n",
       "      <td>{kickbox\":{\"result\":\"deliverable\"</td>\n",
       "      <td>reason:\"accepted_email\"}}\"</td>\n",
       "    </tr>\n",
       "    <tr>\n",
       "      <th>10000002</th>\n",
       "      <td>erza_hasanii@hotmail.com</td>\n",
       "      <td>erza_hasanii@hotmail.com</td>\n",
       "      <td>NaN</td>\n",
       "      <td>0</td>\n",
       "      <td>2019-09-14 17:19:33</td>\n",
       "      <td>2019-09-16 20:56:25</td>\n",
       "      <td>1</td>\n",
       "      <td>NaN</td>\n",
       "      <td>good</td>\n",
       "      <td>{kickbox\":{\"result\":\"deliverable\"</td>\n",
       "      <td>reason:\"accepted_email\"}}\"</td>\n",
       "    </tr>\n",
       "    <tr>\n",
       "      <th>10000003</th>\n",
       "      <td>marie.lipence@seznam.cz</td>\n",
       "      <td>marie.lipence@seznam.cz</td>\n",
       "      <td>NaN</td>\n",
       "      <td>0</td>\n",
       "      <td>2019-09-14 17:19:49</td>\n",
       "      <td>2019-09-14 17:19:52</td>\n",
       "      <td>1</td>\n",
       "      <td>NaN</td>\n",
       "      <td>good</td>\n",
       "      <td>{kickbox\":{\"result\":\"deliverable\"</td>\n",
       "      <td>reason:\"accepted_email\"}}\"</td>\n",
       "    </tr>\n",
       "    <tr>\n",
       "      <th>10000004</th>\n",
       "      <td>billlambert420@gmail.com</td>\n",
       "      <td>billlambert420@gmail.com</td>\n",
       "      <td>NaN</td>\n",
       "      <td>0</td>\n",
       "      <td>2019-09-14 17:20:10</td>\n",
       "      <td>2019-09-14 17:20:10</td>\n",
       "      <td>1</td>\n",
       "      <td>NaN</td>\n",
       "      <td>unknown</td>\n",
       "      <td>{}</td>\n",
       "      <td>NaN</td>\n",
       "    </tr>\n",
       "    <tr>\n",
       "      <th>10000005</th>\n",
       "      <td>joeodom537@gmail.com</td>\n",
       "      <td>joeodom537@gmail.com</td>\n",
       "      <td>NaN</td>\n",
       "      <td>0</td>\n",
       "      <td>2019-09-14 17:20:32</td>\n",
       "      <td>2019-09-14 17:20:32</td>\n",
       "      <td>1</td>\n",
       "      <td>NaN</td>\n",
       "      <td>unknown</td>\n",
       "      <td>{}</td>\n",
       "      <td>NaN</td>\n",
       "    </tr>\n",
       "  </tbody>\n",
       "</table>\n",
       "</div>"
      ],
      "text/plain": [
       "                                id                     email firstname  \\\n",
       "10000001          bugruc@gmail.com          bugruc@gmail.com       NaN   \n",
       "10000002  erza_hasanii@hotmail.com  erza_hasanii@hotmail.com       NaN   \n",
       "10000003   marie.lipence@seznam.cz   marie.lipence@seznam.cz       NaN   \n",
       "10000004  billlambert420@gmail.com  billlambert420@gmail.com       NaN   \n",
       "10000005      joeodom537@gmail.com      joeodom537@gmail.com       NaN   \n",
       "\n",
       "          lastname           isVerified            createdAt  updatedAt  \\\n",
       "10000001         0  2019-09-14 17:19:31  2019-09-14 17:19:32          1   \n",
       "10000002         0  2019-09-14 17:19:33  2019-09-16 20:56:25          1   \n",
       "10000003         0  2019-09-14 17:19:49  2019-09-14 17:19:52          1   \n",
       "10000004         0  2019-09-14 17:20:10  2019-09-14 17:20:10          1   \n",
       "10000005         0  2019-09-14 17:20:32  2019-09-14 17:20:32          1   \n",
       "\n",
       "         isActive countryCode                        emailHealth  \\\n",
       "10000001      NaN        good  {kickbox\":{\"result\":\"deliverable\"   \n",
       "10000002      NaN        good  {kickbox\":{\"result\":\"deliverable\"   \n",
       "10000003      NaN        good  {kickbox\":{\"result\":\"deliverable\"   \n",
       "10000004      NaN     unknown                                 {}   \n",
       "10000005      NaN     unknown                                 {}   \n",
       "\n",
       "                    emailHealthNotes  \n",
       "10000001  reason:\"accepted_email\"}}\"  \n",
       "10000002  reason:\"accepted_email\"}}\"  \n",
       "10000003  reason:\"accepted_email\"}}\"  \n",
       "10000004                         NaN  \n",
       "10000005                         NaN  "
      ]
     },
     "execution_count": 26,
     "metadata": {},
     "output_type": "execute_result"
    }
   ],
   "source": [
    "data_top = df.head() \n",
    "data_top\n",
    "\n",
    "\n"
   ]
  },
  {
   "cell_type": "code",
   "execution_count": null,
   "metadata": {},
   "outputs": [],
   "source": []
  },
  {
   "cell_type": "code",
   "execution_count": 30,
   "metadata": {},
   "outputs": [
    {
     "data": {
      "text/plain": [
       "10000001               bugruc@gmail.com\n",
       "10000002       erza_hasanii@hotmail.com\n",
       "10000003        marie.lipence@seznam.cz\n",
       "10000004       billlambert420@gmail.com\n",
       "10000005           joeodom537@gmail.com\n",
       "                       ...             \n",
       "13365349             joejoesj@yahoo.com\n",
       "13365350        claudia300566@gmail.com\n",
       "13365351    matheusacandido@hotmail.com\n",
       "13365352            hieunx261@gmail.com\n",
       "13365353             tpa711@comcast.net\n",
       "Name: email, Length: 3355747, dtype: object"
      ]
     },
     "execution_count": 30,
     "metadata": {},
     "output_type": "execute_result"
    }
   ],
   "source": [
    "df['email'] = df['id'].astype(str)\n",
    "emails = df['email'].astype(str)\n",
    "emails"
   ]
  },
  {
   "cell_type": "code",
   "execution_count": 37,
   "metadata": {},
   "outputs": [
    {
     "data": {
      "text/plain": [
       "array(['good', 'unknown', 'bad'], dtype=object)"
      ]
     },
     "execution_count": 37,
     "metadata": {},
     "output_type": "execute_result"
    }
   ],
   "source": [
    "df['health'] = df['countryCode'].astype(str)\n",
    "health=df['health']\n",
    "health.unique()\n",
    "health.value_counts()\n"
   ]
  },
  {
   "cell_type": "code",
   "execution_count": 53,
   "metadata": {},
   "outputs": [
    {
     "data": {
      "text/plain": [
       "10000001              bugruc@gmail.com\n",
       "10000002      erza_hasanii@hotmail.com\n",
       "10000003       marie.lipence@seznam.cz\n",
       "10000006         kytickaruze@gmail.com\n",
       "10000007    guzmanbarraganj7@gmail.com\n",
       "                       ...            \n",
       "13365342          darin_gone@yahoo.com\n",
       "13365343              mew485@gmail.com\n",
       "13365345        engr.ask.926@gmail.com\n",
       "13365347      leandro.duarte@xerox.com\n",
       "13365350       claudia300566@gmail.com\n",
       "Name: email, Length: 869886, dtype: object"
      ]
     },
     "execution_count": 53,
     "metadata": {},
     "output_type": "execute_result"
    }
   ],
   "source": [
    "\n",
    "good_emails = df[df['health'] == 'good'][\"email\"]\n",
    "good_emails"
   ]
  },
  {
   "cell_type": "code",
   "execution_count": 54,
   "metadata": {},
   "outputs": [
    {
     "data": {
      "text/plain": [
       "10000086     anthony.butler19@yhoo.com\n",
       "10000320        josh.figs123@yahoo.com\n",
       "10000322        krecinek7781@seznam.cz\n",
       "10000344       smasmiles1978@gnail.com\n",
       "10000361          vjqckelova@gmail.com\n",
       "                       ...            \n",
       "13364774    Shaikrehan062002@gmail.con\n",
       "13364792    gloriacarmonas65@gmail.com\n",
       "13364900                 304@gmail.com\n",
       "13364959    brito.mateuslima@gmail.com\n",
       "13364987        girimilan987@gmail.com\n",
       "Name: email, Length: 167150, dtype: object"
      ]
     },
     "execution_count": 54,
     "metadata": {},
     "output_type": "execute_result"
    }
   ],
   "source": [
    "bad_emails = df[df['health'] == 'bad'][\"email\"]\n",
    "bad_emails"
   ]
  },
  {
   "cell_type": "code",
   "execution_count": 79,
   "metadata": {},
   "outputs": [
    {
     "name": "stdout",
     "output_type": "stream",
     "text": [
      "done making frame test.txt\n"
     ]
    }
   ],
   "source": [
    "def make_dataset(data, outpath):\n",
    "    with open(outpath, 'w', buffering=20*(1024**2)) as f:\n",
    "        for row in data:       \n",
    "            labels = row[\"labels\"]\n",
    "            sample = row[\"sample\"]\n",
    "            labels = \" \".join(map(lambda x: f\"__label__{x}\", labels))\n",
    "            f.write(f\"{labels} {sample}\" + '\\n')\n",
    "        \n",
    "        print(f\"done making frame {outpath}\")\n",
    "\n",
    "make_dataset([{\"labels\": \"yo\", \"sample\": \"text\"}], \"test.txt\")"
   ]
  },
  {
   "cell_type": "code",
   "execution_count": 81,
   "metadata": {},
   "outputs": [
    {
     "name": "stdout",
     "output_type": "stream",
     "text": [
      "test set len: 103704\n",
      "train set len: 933332\n"
     ]
    }
   ],
   "source": [
    "bad_emails_labeled = list(map(lambda x: { \"labels\": [\"bad\"], \"sample\": x }, bad_emails))\n",
    "good_emails_labeled = list(map(lambda x: { \"labels\": [\"good\"], \"sample\": x }, good_emails))\n",
    "\n",
    "emails_labeled = bad_emails_labeled + good_emails_labeled\n",
    "\n",
    "import random\n",
    "random.shuffle(emails_labeled)\n",
    "random.shuffle(emails_labeled)\n",
    "\n",
    "test_train_ratio = 0.1\n",
    "midpoint = round(len(emails_labeled)*test_train_ratio)\n",
    "test_set = emails_labeled[:midpoint]\n",
    "train_set = emails_labeled[midpoint:]\n",
    "\n",
    "print(f\"test set len: {len(test_set)}\")\n",
    "print(f\"train set len: {len(train_set)}\")"
   ]
  },
  {
   "cell_type": "code",
   "execution_count": 82,
   "metadata": {},
   "outputs": [
    {
     "name": "stdout",
     "output_type": "stream",
     "text": [
      "done making frame emails.test\n",
      "done making frame emails.train\n"
     ]
    }
   ],
   "source": [
    "make_dataset(test_set, \"emails.test\")\n",
    "make_dataset(train_set, \"emails.train\")"
   ]
  },
  {
   "cell_type": "code",
   "execution_count": 86,
   "metadata": {},
   "outputs": [
    {
     "name": "stderr",
     "output_type": "stream",
     "text": [
      "/bin/sh: 1: fasttext: Too many levels of symbolic links\n"
     ]
    }
   ],
   "source": [
    "import subprocess as sb\n",
    "def make_ftxt_model(inp, out):\n",
    "    sb.run(\"fasttext supervised -input emails.train -output model\", shell=True)\n",
    "    \n",
    "make_ftxt_model(\"emails.train\", \"model_emails\")"
   ]
  }
 ],
 "metadata": {
  "interpreter": {
   "hash": "2be5faf79681da6f2a61fdfdd5405d65d042280f7fba6178067603e3a2925119"
  },
  "kernelspec": {
   "display_name": "Python 3 (ipykernel)",
   "language": "python",
   "name": "python3"
  },
  "language_info": {
   "codemirror_mode": {
    "name": "ipython",
    "version": 3
   },
   "file_extension": ".py",
   "mimetype": "text/x-python",
   "name": "python",
   "nbconvert_exporter": "python",
   "pygments_lexer": "ipython3",
   "version": "3.8.10"
  }
 },
 "nbformat": 4,
 "nbformat_minor": 4
}
