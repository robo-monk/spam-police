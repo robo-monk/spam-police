{
 "cells": [
  {
   "cell_type": "code",
   "execution_count": 3,
   "metadata": {},
   "outputs": [],
   "source": [
    "import pandas as pd\n",
    "\n",
    "\n",
    "\n"
   ]
  },
  {
   "cell_type": "code",
   "execution_count": 6,
   "metadata": {},
   "outputs": [
    {
     "name": "stdout",
     "output_type": "stream",
     "text": [
      "Index(['id', 'email', 'firstname', 'lastname', 'isVerified', 'createdAt',\n",
      "       'updatedAt', 'isActive', 'countryCode', 'emailHealth',\n",
      "       'emailHealthNotes'],\n",
      "      dtype='object')\n"
     ]
    }
   ],
   "source": [
    "path = \"./data/participants.csv\"\n",
    "\n",
    "df = pd.read_csv(path)\n",
    "\n",
    "print(df.columns)"
   ]
  },
  {
   "cell_type": "code",
   "execution_count": 26,
   "metadata": {},
   "outputs": [
    {
     "data": {
      "text/html": [
       "<div>\n",
       "<style scoped>\n",
       "    .dataframe tbody tr th:only-of-type {\n",
       "        vertical-align: middle;\n",
       "    }\n",
       "\n",
       "    .dataframe tbody tr th {\n",
       "        vertical-align: top;\n",
       "    }\n",
       "\n",
       "    .dataframe thead th {\n",
       "        text-align: right;\n",
       "    }\n",
       "</style>\n",
       "<table border=\"1\" class=\"dataframe\">\n",
       "  <thead>\n",
       "    <tr style=\"text-align: right;\">\n",
       "      <th></th>\n",
       "      <th>id</th>\n",
       "      <th>email</th>\n",
       "      <th>firstname</th>\n",
       "      <th>lastname</th>\n",
       "      <th>isVerified</th>\n",
       "      <th>createdAt</th>\n",
       "      <th>updatedAt</th>\n",
       "      <th>isActive</th>\n",
       "      <th>countryCode</th>\n",
       "      <th>emailHealth</th>\n",
       "      <th>emailHealthNotes</th>\n",
       "    </tr>\n",
       "  </thead>\n",
       "  <tbody>\n",
       "    <tr>\n",
       "      <th>10000001</th>\n",
       "      <td>bugruc@gmail.com</td>\n",
       "      <td>bugruc@gmail.com</td>\n",
       "      <td>NaN</td>\n",
       "      <td>0</td>\n",
       "      <td>2019-09-14 17:19:31</td>\n",
       "      <td>2019-09-14 17:19:32</td>\n",
       "      <td>1</td>\n",
       "      <td>NaN</td>\n",
       "      <td>good</td>\n",
       "      <td>{kickbox\":{\"result\":\"deliverable\"</td>\n",
       "      <td>reason:\"accepted_email\"}}\"</td>\n",
       "    </tr>\n",
       "    <tr>\n",
       "      <th>10000002</th>\n",
       "      <td>erza_hasanii@hotmail.com</td>\n",
       "      <td>erza_hasanii@hotmail.com</td>\n",
       "      <td>NaN</td>\n",
       "      <td>0</td>\n",
       "      <td>2019-09-14 17:19:33</td>\n",
       "      <td>2019-09-16 20:56:25</td>\n",
       "      <td>1</td>\n",
       "      <td>NaN</td>\n",
       "      <td>good</td>\n",
       "      <td>{kickbox\":{\"result\":\"deliverable\"</td>\n",
       "      <td>reason:\"accepted_email\"}}\"</td>\n",
       "    </tr>\n",
       "    <tr>\n",
       "      <th>10000003</th>\n",
       "      <td>marie.lipence@seznam.cz</td>\n",
       "      <td>marie.lipence@seznam.cz</td>\n",
       "      <td>NaN</td>\n",
       "      <td>0</td>\n",
       "      <td>2019-09-14 17:19:49</td>\n",
       "      <td>2019-09-14 17:19:52</td>\n",
       "      <td>1</td>\n",
       "      <td>NaN</td>\n",
       "      <td>good</td>\n",
       "      <td>{kickbox\":{\"result\":\"deliverable\"</td>\n",
       "      <td>reason:\"accepted_email\"}}\"</td>\n",
       "    </tr>\n",
       "    <tr>\n",
       "      <th>10000004</th>\n",
       "      <td>billlambert420@gmail.com</td>\n",
       "      <td>billlambert420@gmail.com</td>\n",
       "      <td>NaN</td>\n",
       "      <td>0</td>\n",
       "      <td>2019-09-14 17:20:10</td>\n",
       "      <td>2019-09-14 17:20:10</td>\n",
       "      <td>1</td>\n",
       "      <td>NaN</td>\n",
       "      <td>unknown</td>\n",
       "      <td>{}</td>\n",
       "      <td>NaN</td>\n",
       "    </tr>\n",
       "    <tr>\n",
       "      <th>10000005</th>\n",
       "      <td>joeodom537@gmail.com</td>\n",
       "      <td>joeodom537@gmail.com</td>\n",
       "      <td>NaN</td>\n",
       "      <td>0</td>\n",
       "      <td>2019-09-14 17:20:32</td>\n",
       "      <td>2019-09-14 17:20:32</td>\n",
       "      <td>1</td>\n",
       "      <td>NaN</td>\n",
       "      <td>unknown</td>\n",
       "      <td>{}</td>\n",
       "      <td>NaN</td>\n",
       "    </tr>\n",
       "  </tbody>\n",
       "</table>\n",
       "</div>"
      ],
      "text/plain": [
       "                                id                     email firstname  \\\n",
       "10000001          bugruc@gmail.com          bugruc@gmail.com       NaN   \n",
       "10000002  erza_hasanii@hotmail.com  erza_hasanii@hotmail.com       NaN   \n",
       "10000003   marie.lipence@seznam.cz   marie.lipence@seznam.cz       NaN   \n",
       "10000004  billlambert420@gmail.com  billlambert420@gmail.com       NaN   \n",
       "10000005      joeodom537@gmail.com      joeodom537@gmail.com       NaN   \n",
       "\n",
       "          lastname           isVerified            createdAt  updatedAt  \\\n",
       "10000001         0  2019-09-14 17:19:31  2019-09-14 17:19:32          1   \n",
       "10000002         0  2019-09-14 17:19:33  2019-09-16 20:56:25          1   \n",
       "10000003         0  2019-09-14 17:19:49  2019-09-14 17:19:52          1   \n",
       "10000004         0  2019-09-14 17:20:10  2019-09-14 17:20:10          1   \n",
       "10000005         0  2019-09-14 17:20:32  2019-09-14 17:20:32          1   \n",
       "\n",
       "         isActive countryCode                        emailHealth  \\\n",
       "10000001      NaN        good  {kickbox\":{\"result\":\"deliverable\"   \n",
       "10000002      NaN        good  {kickbox\":{\"result\":\"deliverable\"   \n",
       "10000003      NaN        good  {kickbox\":{\"result\":\"deliverable\"   \n",
       "10000004      NaN     unknown                                 {}   \n",
       "10000005      NaN     unknown                                 {}   \n",
       "\n",
       "                    emailHealthNotes  \n",
       "10000001  reason:\"accepted_email\"}}\"  \n",
       "10000002  reason:\"accepted_email\"}}\"  \n",
       "10000003  reason:\"accepted_email\"}}\"  \n",
       "10000004                         NaN  \n",
       "10000005                         NaN  "
      ]
     },
     "execution_count": 26,
     "metadata": {},
     "output_type": "execute_result"
    }
   ],
   "source": [
    "data_top = df.head() \n",
    "data_top\n",
    "\n",
    "\n"
   ]
  },
  {
   "cell_type": "code",
   "execution_count": null,
   "metadata": {},
   "outputs": [],
   "source": []
  },
  {
   "cell_type": "code",
   "execution_count": 30,
   "metadata": {},
   "outputs": [
    {
     "data": {
      "text/plain": [
       "10000001               bugruc@gmail.com\n",
       "10000002       erza_hasanii@hotmail.com\n",
       "10000003        marie.lipence@seznam.cz\n",
       "10000004       billlambert420@gmail.com\n",
       "10000005           joeodom537@gmail.com\n",
       "                       ...             \n",
       "13365349             joejoesj@yahoo.com\n",
       "13365350        claudia300566@gmail.com\n",
       "13365351    matheusacandido@hotmail.com\n",
       "13365352            hieunx261@gmail.com\n",
       "13365353             tpa711@comcast.net\n",
       "Name: email, Length: 3355747, dtype: object"
      ]
     },
     "execution_count": 30,
     "metadata": {},
     "output_type": "execute_result"
    }
   ],
   "source": [
    "df['email'] = df['id'].astype(str)\n",
    "emails = df['email'].astype(str)\n",
    "emails"
   ]
  },
  {
   "cell_type": "code",
   "execution_count": 37,
   "metadata": {},
   "outputs": [
    {
     "data": {
      "text/plain": [
       "array(['good', 'unknown', 'bad'], dtype=object)"
      ]
     },
     "execution_count": 37,
     "metadata": {},
     "output_type": "execute_result"
    }
   ],
   "source": [
    "df['health'] = df['countryCode'].astype(str)\n",
    "health=df['health']\n",
    "health.unique()\n",
    "health.value_counts()\n"
   ]
  },
  {
   "cell_type": "code",
   "execution_count": 273,
   "metadata": {},
   "outputs": [
    {
     "data": {
      "text/plain": [
       "10000001              bugruc@gmail.com\n",
       "10000002      erza_hasanii@hotmail.com\n",
       "10000003       marie.lipence@seznam.cz\n",
       "10000006         kytickaruze@gmail.com\n",
       "10000007    guzmanbarraganj7@gmail.com\n",
       "                       ...            \n",
       "13365342          darin_gone@yahoo.com\n",
       "13365343              mew485@gmail.com\n",
       "13365345        engr.ask.926@gmail.com\n",
       "13365347      leandro.duarte@xerox.com\n",
       "13365350       claudia300566@gmail.com\n",
       "Name: email, Length: 869886, dtype: object"
      ]
     },
     "execution_count": 273,
     "metadata": {},
     "output_type": "execute_result"
    }
   ],
   "source": [
    "\n",
    "good_emails = df[df['health'] == 'good'][\"email\"]\n",
    "good_emails"
   ]
  },
  {
   "cell_type": "code",
   "execution_count": 272,
   "metadata": {},
   "outputs": [
    {
     "data": {
      "text/plain": [
       "10000086     anthony.butler19@yhoo.com\n",
       "10000320        josh.figs123@yahoo.com\n",
       "10000322        krecinek7781@seznam.cz\n",
       "10000344       smasmiles1978@gnail.com\n",
       "10000361          vjqckelova@gmail.com\n",
       "                       ...            \n",
       "13364774    Shaikrehan062002@gmail.con\n",
       "13364792    gloriacarmonas65@gmail.com\n",
       "13364900                 304@gmail.com\n",
       "13364959    brito.mateuslima@gmail.com\n",
       "13364987        girimilan987@gmail.com\n",
       "Name: email, Length: 167150, dtype: object"
      ]
     },
     "execution_count": 272,
     "metadata": {},
     "output_type": "execute_result"
    }
   ],
   "source": [
    "bad_emails = df[df['health'] == 'bad'][\"email\"]\n",
    "bad_emails"
   ]
  },
  {
   "cell_type": "code",
   "execution_count": 274,
   "metadata": {},
   "outputs": [
    {
     "name": "stdout",
     "output_type": "stream",
     "text": [
      "done formatting\n"
     ]
    },
    {
     "data": {
      "text/plain": [
       "10000001                      bugruc <at> gmail <dot> com\n",
       "10000002              erza_hasanii <at> hotmail <dot> com\n",
       "10000003         marie <dot> lipence <at> seznam <dot> cz\n",
       "10000006                 kytickaruze <at> gmail <dot> com\n",
       "10000007            guzmanbarraganj7 <at> gmail <dot> com\n",
       "                                ...                      \n",
       "13365342                  darin_gone <at> yahoo <dot> com\n",
       "13365343                      mew485 <at> gmail <dot> com\n",
       "13365345    engr <dot> ask <dot> 926 <at> gmail <dot> com\n",
       "13365347        leandro <dot> duarte <at> xerox <dot> com\n",
       "13365350               claudia300566 <at> gmail <dot> com\n",
       "Name: email, Length: 869886, dtype: object"
      ]
     },
     "execution_count": 274,
     "metadata": {},
     "output_type": "execute_result"
    }
   ],
   "source": [
    "import re \n",
    "def format_email(email):\n",
    "    email = email.replace(\".\", \" <dot> \")\n",
    "    email = email.replace(\"@\", \" <at> \")\n",
    "    return re.sub(' +', ' ', email).lower()\n",
    "    \n",
    "\n",
    "def format_emails(series):\n",
    "    return series.apply(format_email)\n",
    "\n",
    "bad_emails = format_emails(bad_emails)\n",
    "\n",
    "good_emails = format_emails(good_emails)\n",
    "\n",
    "print('done formatting')\n",
    "good_emails\n"
   ]
  },
  {
   "cell_type": "code",
   "execution_count": 275,
   "metadata": {},
   "outputs": [],
   "source": [
    "def make_dataset(data, outpath):\n",
    "    with open(outpath, 'w', buffering=20*(1024**2)) as f:\n",
    "        for row in data:       \n",
    "            labels = row[\"labels\"]\n",
    "            sample = row[\"sample\"]\n",
    "            labels = \" \".join(map(lambda x: f\"__label__{x}\", labels))\n",
    "            f.write(f\"{labels} {sample}\" + '\\n')\n",
    "        \n",
    "        print(f\"done making frame {outpath}\")\n",
    "\n",
    "# make_dataset([{\"labels\": \"yo\", \"sample\": \"text\"}], \"test.txt\")"
   ]
  },
  {
   "cell_type": "code",
   "execution_count": 284,
   "metadata": {},
   "outputs": [
    {
     "name": "stdout",
     "output_type": "stream",
     "text": [
      "min len is 167150\n",
      "bad emails count 167150\n",
      "good emails count 869886\n",
      "test set len: 311111\n",
      "train set len: 725925\n",
      "[{'labels': ['bad'], 'sample': 'myemailsu <dot> 819046 <at> gmail <dot> com'}, {'labels': ['good'], 'sample': 'ludmillamaria <at> gmail <dot> com'}, {'labels': ['good'], 'sample': 'cinnie <at> iinet <dot> net <dot> au'}, {'labels': ['good'], 'sample': 'nicolas <dot> janvier86 <at> gmail <dot> com'}, {'labels': ['good'], 'sample': 'scholarpradeep <at> gmail <dot> com'}, {'labels': ['good'], 'sample': 'therealbigtouch <at> gmail <dot> com'}, {'labels': ['good'], 'sample': 'yigitkaratas <at> sabanciuniv <dot> edu'}, {'labels': ['bad'], 'sample': 'myemailsu <dot> 178512 <at> gmail <dot> com'}, {'labels': ['bad'], 'sample': 'erktdmr34 <at> gmal <dot> com'}, {'labels': ['good'], 'sample': 'fustinshawn <at> gmail <dot> com'}, {'labels': ['good'], 'sample': 'mirelacazvd <at> gmail <dot> com'}, {'labels': ['good'], 'sample': 'emrecan <dot> ozenc <at> etstur <dot> com'}, {'labels': ['good'], 'sample': 'luizy <dot> santana01 <at> gmail <dot> com'}, {'labels': ['good'], 'sample': 'kanathan <dot> kp <at> gmail <dot> com'}, {'labels': ['good'], 'sample': 'matteo <dot> michelini <at> yahoo <dot> it'}, {'labels': ['good'], 'sample': 'grace <dot> mhn <at> gmail <dot> com'}, {'labels': ['good'], 'sample': 'paulinesr29 <at> gmail <dot> com'}, {'labels': ['good'], 'sample': 'bfiratdalgic <at> gmail <dot> com'}, {'labels': ['good'], 'sample': 'milo1357 <at> googlemail <dot> com'}, {'labels': ['good'], 'sample': 'baldykav <at> hotmail <dot> com'}, {'labels': ['bad'], 'sample': 'burconmateusz1 <at> gmail <dot> com'}, {'labels': ['bad'], 'sample': 'ijustwantthiscard <dot> 226546 <at> gmail <dot> com'}, {'labels': ['good'], 'sample': '83jessrem <at> gmail <dot> com'}, {'labels': ['good'], 'sample': 'klemen <dot> rade <at> outlook <dot> com'}, {'labels': ['good'], 'sample': 'sammdavies <at> hotmail <dot> com'}, {'labels': ['good'], 'sample': 'sj50224 <at> bellsouth <dot> net'}, {'labels': ['bad'], 'sample': 'myemailsu <dot> 700448 <at> gmail <dot> com'}, {'labels': ['bad'], 'sample': 'myemailsu <dot> 312839 <at> gmail <dot> com'}, {'labels': ['good'], 'sample': 'gclarkesbarbers <at> hotmail <dot> co <dot> uk'}, {'labels': ['bad'], 'sample': 'ijustwantthiscard <dot> 180910 <at> gmail <dot> com'}, {'labels': ['good'], 'sample': 'girlenesantossoares <at> gmail <dot> com'}, {'labels': ['good'], 'sample': 'emilyrhodes4 <at> gmail <dot> com'}, {'labels': ['good'], 'sample': 'nhinton <at> gmail <dot> com'}, {'labels': ['good'], 'sample': 'delisha366 <at> gmail <dot> com'}, {'labels': ['good'], 'sample': 'heather <at> leadxfactor <dot> com'}, {'labels': ['good'], 'sample': 'ojlwwu <at> hi2 <dot> in'}, {'labels': ['good'], 'sample': 'vduguet <at> hotmail <dot> com'}, {'labels': ['good'], 'sample': 'gramdas <at> alumni <dot> berklee <dot> edu'}, {'labels': ['good'], 'sample': 'vsmalley <at> gmail <dot> com'}, {'labels': ['good'], 'sample': 'francisyousif <at> yahoo <dot> com'}, {'labels': ['good'], 'sample': 'jotharan <at> bb <dot> com <dot> br'}, {'labels': ['good'], 'sample': 'amm <dot> e <dot> ll <dot> ia <dot> d <dot> ewi <at> gmail <dot> com'}, {'labels': ['good'], 'sample': 'abbysdouglas1998 <at> gmail <dot> com'}, {'labels': ['good'], 'sample': 'sarah <dot> toussaint <at> btinternet <dot> com'}, {'labels': ['bad'], 'sample': 'myemailsu <dot> 948350 <at> gmail <dot> com'}, {'labels': ['good'], 'sample': 'socrates <dot> gayosso <at> hotmail <dot> com'}, {'labels': ['good'], 'sample': '2867654 <at> cyyzhongxie <dot> co'}, {'labels': ['good'], 'sample': 'stevemjose <at> gmail <dot> com'}, {'labels': ['good'], 'sample': 'larissa10 <at> gmail <dot> com'}, {'labels': ['good'], 'sample': 'damaradiwidodo446 <at> gmail <dot> com'}, {'labels': ['good'], 'sample': 'marcayres <at> gmail <dot> com'}, {'labels': ['good'], 'sample': 'beccakaitlynn <at> gmail <dot> com'}, {'labels': ['good'], 'sample': 'jimmylast934 <at> gmail <dot> com'}, {'labels': ['bad'], 'sample': 'ijustwantthiscard <dot> 15519 <at> gmail <dot> com'}, {'labels': ['good'], 'sample': 'bhagen <at> gmail <dot> com'}, {'labels': ['good'], 'sample': 'yootimmy9 <at> gmail <dot> com'}, {'labels': ['good'], 'sample': 'cihanyangel <at> outlook <dot> com'}, {'labels': ['good'], 'sample': 'rob <at> maisoneconfort <dot> com'}, {'labels': ['bad'], 'sample': 'myemailsu <dot> 718122 <at> gmail <dot> com'}, {'labels': ['good'], 'sample': 'pcj2020 <at> gmail <dot> com'}, {'labels': ['bad'], 'sample': 'hello_82291 <at> gmail <dot> com'}, {'labels': ['good'], 'sample': 'brenda_stanton <at> yahoo <dot> com'}, {'labels': ['good'], 'sample': 'zippijig <at> yahoo <dot> com'}, {'labels': ['bad'], 'sample': 'robertlunde <at> outlook <dot> com'}, {'labels': ['good'], 'sample': 'mfkdkd <at> hotmail <dot> com'}, {'labels': ['good'], 'sample': 'julianammlima <at> me <dot> com'}, {'labels': ['good'], 'sample': 'bonniechen <at> adpings <dot> com'}, {'labels': ['good'], 'sample': 'laiza <at> ejprojeq <dot> com'}, {'labels': ['good'], 'sample': 'katherinescala82 <at> gmail <dot> com'}, {'labels': ['good'], 'sample': 'marta <dot> mratala <at> gmail <dot> com'}, {'labels': ['bad'], 'sample': 'rickkypanuganti <at> gmail <dot> com'}, {'labels': ['good'], 'sample': 'dkyoo1980 <at> gmail <dot> com'}, {'labels': ['bad'], 'sample': 'myemailsu <dot> 456748 <at> gmail <dot> com'}, {'labels': ['good'], 'sample': 'owyatt <at> yahoo <dot> com'}, {'labels': ['good'], 'sample': 'evelyn <dot> huang <at> oplus-design <dot> com'}, {'labels': ['good'], 'sample': 'geeshelia4 <at> gmail <dot> com'}, {'labels': ['good'], 'sample': 'me970353 <at> gmail <dot> com'}, {'labels': ['bad'], 'sample': 'myemailsu <dot> 89970 <at> gmail <dot> com'}, {'labels': ['good'], 'sample': 'sdaleyaz <at> gmail <dot> com'}, {'labels': ['good'], 'sample': 'noyan <dot> aks-o <at> yahoo <dot> com'}, {'labels': ['good'], 'sample': 'joniwinston7 <at> gmail <dot> com'}, {'labels': ['good'], 'sample': 'edwardjpgibson <at> gmail <dot> com'}, {'labels': ['good'], 'sample': 'oxxck <at> hi2 <dot> in'}, {'labels': ['bad'], 'sample': 'myemailsu <dot> 515639 <at> gmail <dot> com'}, {'labels': ['good'], 'sample': 'freina <dot> jr11 <at> gmail <dot> com'}, {'labels': ['good'], 'sample': 'fatmirbejta <at> hotmail <dot> com'}, {'labels': ['good'], 'sample': 'alexanderbussan <at> gmail <dot> com'}, {'labels': ['bad'], 'sample': 'e4judue <at> gmail <dot> com'}, {'labels': ['good'], 'sample': 'elysedarcy17 <at> gmail <dot> com'}, {'labels': ['bad'], 'sample': 'ijustwantthiscard <dot> 382924 <at> gmail <dot> com'}, {'labels': ['bad'], 'sample': 'myemailsu <dot> 940231 <at> gmail <dot> com'}, {'labels': ['good'], 'sample': 'allhomeduadvocate <at> gmail <dot> com'}, {'labels': ['good'], 'sample': 'subowobagus <at> gmail <dot> com'}, {'labels': ['good'], 'sample': 'moneymoney <at> aol <dot> com'}, {'labels': ['good'], 'sample': 'soniarcastillo <at> gmail <dot> com'}, {'labels': ['good'], 'sample': '9pd48 <at> f5 <dot> si'}, {'labels': ['good'], 'sample': 'lhirondellebren <at> gmail <dot> com'}, {'labels': ['good'], 'sample': 'williams <dot> rod1990 <at> gmail <dot> com'}, {'labels': ['good'], 'sample': 'juliana <at> usaflexfranquias <dot> com <dot> br'}, {'labels': ['good'], 'sample': 'bdo86279 <at> zzrgg <dot> com'}] [{'labels': ['good'], 'sample': 'nic <dot> chng12 <at> gmail <dot> com'}, {'labels': ['bad'], 'sample': 'myemailsu <dot> 986238 <at> gmail <dot> com'}, {'labels': ['good'], 'sample': 'eleonora <at> rbnb <dot> info'}, {'labels': ['good'], 'sample': 'ggushiken <at> yahoo <dot> com'}, {'labels': ['good'], 'sample': 'ashrf <dot> mer <at> gmail <dot> com'}, {'labels': ['good'], 'sample': 'tgm414 <at> hotmail <dot> com'}, {'labels': ['good'], 'sample': 'bbiaserra <at> gmail <dot> com'}, {'labels': ['good'], 'sample': 'madhukaredpuganti <at> yahoo <dot> com'}, {'labels': ['good'], 'sample': 'hapi <at> 4nextmail <dot> com'}, {'labels': ['good'], 'sample': 'blosfeldcali <at> gmail <dot> com'}, {'labels': ['good'], 'sample': 'amnasaleem86 <at> gmail <dot> com'}, {'labels': ['good'], 'sample': 'alessandra <dot> ceracchi <at> libero <dot> it'}, {'labels': ['good'], 'sample': 'tharsen <at> hotmail <dot> ca'}, {'labels': ['bad'], 'sample': 'myemailsu <dot> 835041 <at> gmail <dot> com'}, {'labels': ['good'], 'sample': 'jesusalopez08 <at> icloud <dot> com'}, {'labels': ['good'], 'sample': 'teresaruocco <at> hotmail <dot> com'}, {'labels': ['good'], 'sample': 'vienaosoy <at> gmail <dot> com'}, {'labels': ['good'], 'sample': 'arielzhechter <at> gmail <dot> com'}, {'labels': ['good'], 'sample': 'veronika <at> foitlova <dot> se'}, {'labels': ['good'], 'sample': 'sercodi <at> gmail <dot> com'}, {'labels': ['good'], 'sample': 'emilie383617 <at> mockmail <dot> xyz'}, {'labels': ['good'], 'sample': 'rebeccaharding49 <at> yahoo <dot> co <dot> uk'}, {'labels': ['good'], 'sample': 'ellen <at> securegate <dot> com <dot> br'}, {'labels': ['good'], 'sample': 'giulia <dot> angeloni17 <at> gmail <dot> com'}, {'labels': ['good'], 'sample': 'mariaklager <at> hotmail <dot> com'}, {'labels': ['good'], 'sample': 'huseyinaydin08 <at> hotmail <dot> com'}, {'labels': ['good'], 'sample': 'tri <dot> alyssa03 <at> gmail <dot> com'}, {'labels': ['good'], 'sample': 'bradynvoong <at> gmail <dot> com'}, {'labels': ['good'], 'sample': 'al21cuk <at> gmail <dot> com'}, {'labels': ['good'], 'sample': 'maryghorbani <at> hotmail <dot> com'}, {'labels': ['bad'], 'sample': 'myemailsu <dot> 722873 <at> gmail <dot> com'}, {'labels': ['good'], 'sample': 'larissakscardoso <at> gmail <dot> com'}, {'labels': ['good'], 'sample': 'muhammed <dot> moe <dot> mi <at> gmail <dot> com'}, {'labels': ['good'], 'sample': 'dahum3 <at> gmail <dot> com'}, {'labels': ['good'], 'sample': 'rzab <dot> tamara <at> gmail <dot> com'}, {'labels': ['good'], 'sample': 'elianapes <at> gmail <dot> com'}, {'labels': ['good'], 'sample': 'atilalimac <at> gmail <dot> com'}, {'labels': ['good'], 'sample': 'estrada3313 <at> gmail <dot> com'}, {'labels': ['good'], 'sample': 'dannilosh <at> gmail <dot> com'}, {'labels': ['good'], 'sample': 'koolmilds377 <at> gmail <dot> com'}, {'labels': ['good'], 'sample': 'fernandonando98 <at> live <dot> com <dot> mx'}, {'labels': ['good'], 'sample': 'ibenkotpa8 <at> gmail <dot> com'}, {'labels': ['good'], 'sample': 'ericanavarro1977 <at> gmail <dot> com'}, {'labels': ['good'], 'sample': 'noah681804 <at> dropjar <dot> com'}, {'labels': ['good'], 'sample': 'k <dot> faithmtz <at> gmail <dot> com'}, {'labels': ['good'], 'sample': 'dystamine <at> gmail <dot> com'}, {'labels': ['good'], 'sample': 'solekingsca <at> gmail <dot> com'}, {'labels': ['good'], 'sample': 'luciajenkins23 <at> gmail <dot> com'}, {'labels': ['good'], 'sample': 'lanbmh711 <at> gmail <dot> com'}, {'labels': ['good'], 'sample': 'mills <dot> kendall24 <at> gmail <dot> com'}, {'labels': ['good'], 'sample': 'cyndyreynolds <at> comcast <dot> net'}, {'labels': ['good'], 'sample': 'lizzholla <at> thediscountvegan <dot> com'}, {'labels': ['good'], 'sample': 'bonitabyzita <at> hotmail <dot> com'}, {'labels': ['good'], 'sample': 'davidcarver88 <at> outlook <dot> com'}, {'labels': ['good'], 'sample': 'parashar <dot> tara <at> gmail <dot> com'}, {'labels': ['good'], 'sample': 'info <at> visuaheli <dot> com'}, {'labels': ['good'], 'sample': 'vivianebertogna <at> gmail <dot> com'}, {'labels': ['good'], 'sample': 'bila <dot> amaral <at> brigadissimo <dot> com <dot> br'}, {'labels': ['bad'], 'sample': 'myemailsu <dot> 420253 <at> gmail <dot> com'}, {'labels': ['good'], 'sample': 'siamese <dot> kittykat <at> yahoo <dot> co <dot> uk'}, {'labels': ['good'], 'sample': 'jennlynnesin <at> gmail <dot> com'}, {'labels': ['good'], 'sample': 'johnsonpatmos <at> gmail <dot> com'}, {'labels': ['good'], 'sample': 'jcj60561 <at> yahoo <dot> com'}, {'labels': ['good'], 'sample': 'josymello <at> gmail <dot> com'}, {'labels': ['good'], 'sample': 'candybraaf <at> gmail <dot> com'}, {'labels': ['good'], 'sample': 'chcole52 <at> outlook <dot> com'}, {'labels': ['good'], 'sample': 'anthonytonymark2018 <at> gmail <dot> com'}, {'labels': ['good'], 'sample': 'l <dot> dmitriev <at> mail <dot> ru'}, {'labels': ['good'], 'sample': 'enyaespino <at> yahoo <dot> com'}, {'labels': ['good'], 'sample': 'ismailmeha4 <at> gmail <dot> com'}, {'labels': ['good'], 'sample': 'spillda <at> seznam <dot> cz'}, {'labels': ['bad'], 'sample': 'ijustwantthiscard <dot> 532631 <at> gmail <dot> com'}, {'labels': ['good'], 'sample': 'danielzuniga678 <at> gmail <dot> com'}, {'labels': ['good'], 'sample': 'mhnoer2 <at> gmail <dot> com'}, {'labels': ['good'], 'sample': 'cristina <dot> cesana <at> hotmail <dot> com'}, {'labels': ['good'], 'sample': 'blvkdreams <at> gmail <dot> com'}, {'labels': ['bad'], 'sample': 'myemailsu <dot> 704596 <at> gmail <dot> com'}, {'labels': ['good'], 'sample': 'mckibbin <at> hotmail <dot> com'}, {'labels': ['good'], 'sample': 'griselda <dot> avilasoria <at> my <dot> jcu <dot> edu <dot> au'}, {'labels': ['good'], 'sample': 'llpigpenll <at> gmail <dot> com'}, {'labels': ['good'], 'sample': 'pro <at> ifred <dot> mobi'}, {'labels': ['good'], 'sample': 'lucina12002 <at> gmail <dot> com'}, {'labels': ['good'], 'sample': 'odraudenitsuga <at> gmail <dot> com'}, {'labels': ['good'], 'sample': 'antckja00 <at> gmail <dot> com'}, {'labels': ['good'], 'sample': 'zbrannon09 <at> gmail <dot> com'}, {'labels': ['good'], 'sample': 'baarri <dot> brian <at> gmail <dot> com'}, {'labels': ['bad'], 'sample': 'myemailsu <dot> 137800 <at> gmail <dot> com'}, {'labels': ['good'], 'sample': 'fabedmoura <at> hotmail <dot> com'}, {'labels': ['good'], 'sample': 'btedrow11 <at> gmail <dot> com'}, {'labels': ['good'], 'sample': 'dyky90 <at> hotmail <dot> it'}, {'labels': ['good'], 'sample': 'teonilde13 <at> hotmail <dot> com'}, {'labels': ['good'], 'sample': 'turuntanjak <at> gmail <dot> com'}, {'labels': ['good'], 'sample': 'defyingravity33 <at> yahoo <dot> co <dot> uk'}, {'labels': ['good'], 'sample': 'claudio <at> cristinycalcadosebolsas <dot> com <dot> br'}, {'labels': ['good'], 'sample': 'bei62 <at> ahk <dot> jp'}, {'labels': ['bad'], 'sample': 'myemailsu <dot> 920810 <at> gmail <dot> com'}, {'labels': ['good'], 'sample': 'aruramuzh <at> gmail <dot> com'}, {'labels': ['good'], 'sample': 'blacklarain <at> gmail <dot> com'}, {'labels': ['good'], 'sample': 'calvingreene992 <at> gmail <dot> com'}, {'labels': ['good'], 'sample': 'pierredolbec <at> yahoo <dot> ca'}]\n"
     ]
    }
   ],
   "source": [
    "min_len = min(len(bad_emails), len(good_emails))\n",
    "print('min len is', min_len)\n",
    "bad_emails_labeled = list(map(lambda x: { \"labels\": [\"bad\"], \"sample\": x }, bad_emails))\n",
    "good_emails_labeled = list(map(lambda x: { \"labels\": [\"good\"], \"sample\": x }, good_emails))\n",
    "\n",
    "# bad_emails_labeled = bad_emails_labeled[:min_len]\n",
    "# good_emails_labeled = good_emails_labeled[:min_len]\n",
    "\n",
    "print('bad emails count', len(bad_emails_labeled))\n",
    "print('good emails count', len(good_emails_labeled))\n",
    "\n",
    "emails_labeled = bad_emails_labeled + good_emails_labeled\n",
    "# emails_labeled = bad_emails_labeled\n",
    "\n",
    "import random\n",
    "random.shuffle(emails_labeled)\n",
    "\n",
    "test_train_ratio = 0.3\n",
    "midpoint = round(len(emails_labeled)*test_train_ratio)\n",
    "test_set = emails_labeled[:midpoint]\n",
    "train_set = emails_labeled[midpoint:]\n",
    "\n",
    "print(f\"test set len: {len(test_set)}\")\n",
    "print(f\"train set len: {len(train_set)}\")\n",
    "print(test_set[:100], train_set[:100])"
   ]
  },
  {
   "cell_type": "code",
   "execution_count": 286,
   "metadata": {},
   "outputs": [
    {
     "name": "stdout",
     "output_type": "stream",
     "text": [
      "done making frame emails.test\n",
      "done making frame emails.train\n"
     ]
    }
   ],
   "source": [
    "make_dataset(test_set, \"emails.test\")\n",
    "make_dataset(train_set, \"emails.train\")"
   ]
  },
  {
   "cell_type": "code",
   "execution_count": 299,
   "metadata": {},
   "outputs": [
    {
     "name": "stderr",
     "output_type": "stream",
     "text": [
      "Read 5M words\n",
      "Number of words:  7960\n",
      "Number of labels: 2\n",
      "Progress: 100.0% words/sec/thread: 3866718 lr:  0.000000 avg.loss:  2.070915 ETA:   0h 0m 0s 53.5% words/sec/thread: 4137975 lr:  0.023237 avg.loss:  2.292161 ETA:   0h 0m 0s\n"
     ]
    },
    {
     "name": "stdout",
     "output_type": "stream",
     "text": [
      "done training...\n"
     ]
    }
   ],
   "source": [
    "import subprocess as sb\n",
    "fasttext = \"./fastText/fasttext\"\n",
    "def make_ftxt_model(inp, out, epoch, lr, wn):\n",
    "    sb.run([fasttext, \"cbow\", \"-input\", inp,\"-output\", out], shell=False)\n",
    "    # sb.run([fasttext, \"supervised\", \"-input\", inp,\"-output\", out, \"-epoch\", str(epoch), \"-wordNgrams\", str(wn), \"-lr\", str(lr), \"-bucket\", str(200000), \"-dim\", str(50), \"-loss\", \"hs\"], shell=False)\n",
    "\n",
    "    print(\"done training...\")\n",
    "    # print(\"quantizing...\")\n",
    "    # sb.run([fasttext, \"quantize\", \"-input\", f\"{out}.bin\", \"-output\", out], shell=False)\n",
    "\n",
    "    \n",
    "make_ftxt_model(\"emails.train\", \"emails_v1\", 25, lr=1.0, wn=2)"
   ]
  },
  {
   "cell_type": "code",
   "execution_count": 296,
   "metadata": {},
   "outputs": [
    {
     "name": "stderr",
     "output_type": "stream",
     "text": [
      "terminate called after throwing an instance of 'std::invalid_argument'\n",
      "  what():  Model needs to be supervised for prediction!\n"
     ]
    }
   ],
   "source": [
    "def test_ftxt_model(test, valid):\n",
    "    sb.run([fasttext, \"test\", test, valid], shell=False)\n",
    "    \n",
    "# test_ftxt_model(\"emails_v1.ftz\", \"emails.test\")\n",
    "test_ftxt_model(\"emails_v1.bin\", \"emails.test\")\n",
    "\n",
    "    "
   ]
  },
  {
   "cell_type": "code",
   "execution_count": null,
   "metadata": {},
   "outputs": [],
   "source": []
  }
 ],
 "metadata": {
  "interpreter": {
   "hash": "2be5faf79681da6f2a61fdfdd5405d65d042280f7fba6178067603e3a2925119"
  },
  "kernelspec": {
   "display_name": "Python 3 (ipykernel)",
   "language": "python",
   "name": "python3"
  },
  "language_info": {
   "codemirror_mode": {
    "name": "ipython",
    "version": 3
   },
   "file_extension": ".py",
   "mimetype": "text/x-python",
   "name": "python",
   "nbconvert_exporter": "python",
   "pygments_lexer": "ipython3",
   "version": "3.8.10"
  }
 },
 "nbformat": 4,
 "nbformat_minor": 4
}
